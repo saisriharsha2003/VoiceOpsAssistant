{
 "cells": [
  {
   "cell_type": "code",
   "execution_count": 3,
   "metadata": {},
   "outputs": [
    {
     "name": "stdout",
     "output_type": "stream",
     "text": [
      "<Response [401]>\n",
      "None\n"
     ]
    }
   ],
   "source": [
    "import requests\n",
    "\n",
    "\n",
    "url = \"https://api.spotify.com/v1/search\"\n",
    "params = {\n",
    "    \"q\": \"Na roja nuvve\",\n",
    "    \"type\": \"song\",\n",
    "}\n",
    "\n",
    "response = requests.get(url, params=params)\n",
    "print(response)\n",
    "if response.status_code == 200:\n",
    "    results = response.json()[\"tracks\"][\"items\"]\n",
    "    if len(results) > 0:\n",
    "        song_id = results[0][\"id\"]\n",
    "        print(song_id)\n",
    "    else:\n",
    "        print(\"None\")\n",
    "else:\n",
    "    print(\"None\")"
   ]
  },
  {
   "cell_type": "code",
   "execution_count": 8,
   "metadata": {},
   "outputs": [],
   "source": [
    "#wish function\n",
    "import datetime\n",
    "import pyttsx3\n",
    "\n",
    "user = \"harsha\"\n",
    "assistant = 'Jarvis'\n",
    "assistant = pyttsx3.init()\n",
    "assistant.setProperty('rate', 150)\n",
    "voices = assistant.getProperty(\"voices\")\n",
    "assistant.setProperty(\"voice\", voices[0].id)\n",
    "\n",
    "\n",
    "def output(audio):\n",
    "    assistant.say(audio)\n",
    "    assistant.runAndWait()\n",
    "    \n",
    "time = datetime.datetime.now().strftime(\"%H:%M:%S\")\n",
    "g_t=time.split(':')\n",
    "hrs=int(g_t[0])\n",
    "mins=g_t[1]\n",
    "secs=g_t[2]\n",
    "if hrs>=5 and  hrs<=12:\n",
    "    output(\"Good Morning Sir!\")\n",
    "elif hrs>=12 and hrs<=17:\n",
    "    output(\"Good Afternoon Sir!\")\n",
    "elif hrs>=17 and hrs<=21:\n",
    "    output(\"Good Evening Sir!\")\n",
    "else:\n",
    "    output(\"Good Night Sir!\")\n",
    "    "
   ]
  },
  {
   "cell_type": "code",
   "execution_count": 9,
   "metadata": {},
   "outputs": [
    {
     "name": "stdout",
     "output_type": "stream",
     "text": [
      "11:30 PM\n"
     ]
    }
   ],
   "source": [
    "import datetime\n",
    "current_time = datetime.datetime.now().strftime(\"%I:%M %p\")\n",
    "print(current_time)"
   ]
  },
  {
   "cell_type": "code",
   "execution_count": null,
   "metadata": {},
   "outputs": [
    {
     "ename": "ModuleNotFoundError",
     "evalue": "No module named 'PyDictionary'",
     "output_type": "error",
     "traceback": [
      "\u001b[1;31m---------------------------------------------------------------------------\u001b[0m\n",
      "\u001b[1;31mModuleNotFoundError\u001b[0m                       Traceback (most recent call last)\n",
      "Cell \u001b[1;32mIn[4], line 1\u001b[0m\n",
      "\u001b[1;32m----> 1\u001b[0m \u001b[39mfrom\u001b[39;00m \u001b[39mPyDictionary\u001b[39;00m \u001b[39mimport\u001b[39;00m PyDictionary\n",
      "\u001b[0;32m      4\u001b[0m \u001b[39mprint\u001b[39m(\u001b[39m\"\u001b[39m\u001b[39mWhich word do I need to explain the meaning of? Sir!\u001b[39m\u001b[39m\"\u001b[39m)\n",
      "\u001b[0;32m      5\u001b[0m word \u001b[39m=\u001b[39m \u001b[39minput\u001b[39m()\n",
      "\n",
      "\u001b[1;31mModuleNotFoundError\u001b[0m: No module named 'PyDictionary'"
     ]
    }
   ],
   "source": [
    "from PyDictionary import PyDictionary\n",
    "\n",
    "\n",
    "print(\"Which word do I need to explain the meaning of? Sir!\")\n",
    "word = input()\n",
    "pos = input()\n",
    "meaning = PyDictionary(\"hello\").meaning()\n",
    "print(\"The meaning of the provided word\" + meaning[pos.capitalize()])"
   ]
  },
  {
   "cell_type": "code",
   "execution_count": null,
   "metadata": {},
   "outputs": [
    {
     "ename": "ModuleNotFoundError",
     "evalue": "No module named 'PyDictionary'",
     "output_type": "error",
     "traceback": [
      "\u001b[1;31m---------------------------------------------------------------------------\u001b[0m\n",
      "\u001b[1;31mModuleNotFoundError\u001b[0m                       Traceback (most recent call last)\n",
      "Cell \u001b[1;32mIn[4], line 1\u001b[0m\n",
      "\u001b[1;32m----> 1\u001b[0m \u001b[39mfrom\u001b[39;00m \u001b[39mPyDictionary\u001b[39;00m \u001b[39mimport\u001b[39;00m PyDictionary\n",
      "\u001b[0;32m      4\u001b[0m \u001b[39mprint\u001b[39m(\u001b[39m\"\u001b[39m\u001b[39mWhich word do I need to explain the meaning of? Sir!\u001b[39m\u001b[39m\"\u001b[39m)\n",
      "\u001b[0;32m      5\u001b[0m word \u001b[39m=\u001b[39m \u001b[39minput\u001b[39m()\n",
      "\n",
      "\u001b[1;31mModuleNotFoundError\u001b[0m: No module named 'PyDictionary'"
     ]
    }
   ],
   "source": [
    "from PyDictionary import PyDictionary\n",
    "\n",
    "\n",
    "print(\"Which word do I need to explain the meaning of? Sir!\")\n",
    "word = input()\n",
    "pos = input()\n",
    "meaning = PyDictionary(\"hello\").meaning()\n",
    "print(\"The meaning of the provided word\" + meaning[pos.capitalize()])"
   ]
  },
  {
   "cell_type": "code",
   "execution_count": null,
   "metadata": {},
   "outputs": [],
   "source": []
  }
 ],
 "metadata": {
  "kernelspec": {
   "display_name": "Python 3",
   "language": "python",
   "name": "python3"
  },
  "language_info": {
   "codemirror_mode": {
    "name": "ipython",
    "version": 3
   },
   "file_extension": ".py",
   "mimetype": "text/x-python",
   "name": "python",
   "nbconvert_exporter": "python",
   "pygments_lexer": "ipython3",
   "version": "3.11.4"
  },
  "orig_nbformat": 4
 },
 "nbformat": 4,
 "nbformat_minor": 2
}
