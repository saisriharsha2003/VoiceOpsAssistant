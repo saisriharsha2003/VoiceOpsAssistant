{
 "cells": [
  {
   "cell_type": "code",
   "execution_count": 3,
   "metadata": {},
   "outputs": [
    {
     "name": "stdout",
     "output_type": "stream",
     "text": [
      "<Response [401]>\n",
      "None\n"
     ]
    }
   ],
   "source": [
    "import requests\n",
    "\n",
    "\n",
    "url = \"https://api.spotify.com/v1/search\"\n",
    "params = {\n",
    "    \"q\": \"Na roja nuvve\",\n",
    "    \"type\": \"song\",\n",
    "}\n",
    "\n",
    "response = requests.get(url, params=params)\n",
    "print(response)\n",
    "if response.status_code == 200:\n",
    "    results = response.json()[\"tracks\"][\"items\"]\n",
    "    if len(results) > 0:\n",
    "        song_id = results[0][\"id\"]\n",
    "        print(song_id)\n",
    "    else:\n",
    "        print(\"None\")\n",
    "else:\n",
    "    print(\"None\")"
   ]
  }
 ],
 "metadata": {
  "kernelspec": {
   "display_name": "Python 3",
   "language": "python",
   "name": "python3"
  },
  "language_info": {
   "codemirror_mode": {
    "name": "ipython",
    "version": 3
   },
   "file_extension": ".py",
   "mimetype": "text/x-python",
   "name": "python",
   "nbconvert_exporter": "python",
   "pygments_lexer": "ipython3",
   "version": "3.11.4"
  },
  "orig_nbformat": 4
 },
 "nbformat": 4,
 "nbformat_minor": 2
}
