{
 "cells": [
  {
   "cell_type": "code",
   "execution_count": 3,
   "metadata": {},
   "outputs": [
    {
     "name": "stdout",
     "output_type": "stream",
     "text": [
      "<Response [401]>\n",
      "None\n"
     ]
    }
   ],
   "source": [
    "import requests\n",
    "\n",
    "\n",
    "url = \"https://api.spotify.com/v1/search\"\n",
    "params = {\n",
    "    \"q\": \"Na roja nuvve\",\n",
    "    \"type\": \"song\",\n",
    "}\n",
    "\n",
    "response = requests.get(url, params=params)\n",
    "print(response)\n",
    "if response.status_code == 200:\n",
    "    results = response.json()[\"tracks\"][\"items\"]\n",
    "    if len(results) > 0:\n",
    "        song_id = results[0][\"id\"]\n",
    "        print(song_id)\n",
    "    else:\n",
    "        print(\"None\")\n",
    "else:\n",
    "    print(\"None\")"
   ]
  },
  {
   "cell_type": "code",
   "execution_count": 5,
   "metadata": {},
   "outputs": [
    {
     "name": "stdout",
     "output_type": "stream",
     "text": [
      "Which word do I need to explain the meaning of? Sir!\n"
     ]
    },
    {
     "ename": "TypeError",
     "evalue": "PyDictionary.meaning() missing 1 required positional argument: 'term'",
     "output_type": "error",
     "traceback": [
      "\u001b[1;31m---------------------------------------------------------------------------\u001b[0m",
      "\u001b[1;31mTypeError\u001b[0m                                 Traceback (most recent call last)",
      "Cell \u001b[1;32mIn[5], line 7\u001b[0m\n\u001b[0;32m      5\u001b[0m word \u001b[39m=\u001b[39m \u001b[39minput\u001b[39m()\n\u001b[0;32m      6\u001b[0m pos \u001b[39m=\u001b[39m \u001b[39minput\u001b[39m()\n\u001b[1;32m----> 7\u001b[0m meaning \u001b[39m=\u001b[39m PyDictionary(\u001b[39m\"\u001b[39;49m\u001b[39mhello\u001b[39;49m\u001b[39m\"\u001b[39;49m)\u001b[39m.\u001b[39;49mmeaning()\n\u001b[0;32m      8\u001b[0m \u001b[39mprint\u001b[39m(\u001b[39m\"\u001b[39m\u001b[39mThe meaning of the provided word\u001b[39m\u001b[39m\"\u001b[39m \u001b[39m+\u001b[39m meaning[pos\u001b[39m.\u001b[39mcapitalize()])\n",
      "\u001b[1;31mTypeError\u001b[0m: PyDictionary.meaning() missing 1 required positional argument: 'term'"
     ]
    }
   ],
   "source": [
    "from PyDictionary import PyDictionary\n",
    "\n",
    "\n",
    "print(\"Which word do I need to explain the meaning of? Sir!\")\n",
    "word = input()\n",
    "pos = input()\n",
    "meaning = PyDictionary(\"hello\").meaning()\n",
    "print(\"The meaning of the provided word\" + meaning[pos.capitalize()])"
   ]
  },
  {
   "cell_type": "code",
   "execution_count": null,
   "metadata": {},
   "outputs": [
    {
     "ename": "ModuleNotFoundError",
     "evalue": "No module named 'PyDictionary'",
     "output_type": "error",
     "traceback": [
      "\u001b[1;31m---------------------------------------------------------------------------\u001b[0m\n",
      "\u001b[1;31mModuleNotFoundError\u001b[0m                       Traceback (most recent call last)\n",
      "Cell \u001b[1;32mIn[4], line 1\u001b[0m\n",
      "\u001b[1;32m----> 1\u001b[0m \u001b[39mfrom\u001b[39;00m \u001b[39mPyDictionary\u001b[39;00m \u001b[39mimport\u001b[39;00m PyDictionary\n",
      "\u001b[0;32m      4\u001b[0m \u001b[39mprint\u001b[39m(\u001b[39m\"\u001b[39m\u001b[39mWhich word do I need to explain the meaning of? Sir!\u001b[39m\u001b[39m\"\u001b[39m)\n",
      "\u001b[0;32m      5\u001b[0m word \u001b[39m=\u001b[39m \u001b[39minput\u001b[39m()\n",
      "\n",
      "\u001b[1;31mModuleNotFoundError\u001b[0m: No module named 'PyDictionary'"
     ]
    }
   ],
   "source": [
    "from PyDictionary import PyDictionary\n",
    "\n",
    "\n",
    "print(\"Which word do I need to explain the meaning of? Sir!\")\n",
    "word = input()\n",
    "pos = input()\n",
    "meaning = PyDictionary(\"hello\").meaning()\n",
    "print(\"The meaning of the provided word\" + meaning[pos.capitalize()])"
   ]
  },
  {
   "cell_type": "code",
   "execution_count": null,
   "metadata": {},
   "outputs": [
    {
     "ename": "ModuleNotFoundError",
     "evalue": "No module named 'PyDictionary'",
     "output_type": "error",
     "traceback": [
      "\u001b[1;31m---------------------------------------------------------------------------\u001b[0m\n",
      "\u001b[1;31mModuleNotFoundError\u001b[0m                       Traceback (most recent call last)\n",
      "Cell \u001b[1;32mIn[4], line 1\u001b[0m\n",
      "\u001b[1;32m----> 1\u001b[0m \u001b[39mfrom\u001b[39;00m \u001b[39mPyDictionary\u001b[39;00m \u001b[39mimport\u001b[39;00m PyDictionary\n",
      "\u001b[0;32m      4\u001b[0m \u001b[39mprint\u001b[39m(\u001b[39m\"\u001b[39m\u001b[39mWhich word do I need to explain the meaning of? Sir!\u001b[39m\u001b[39m\"\u001b[39m)\n",
      "\u001b[0;32m      5\u001b[0m word \u001b[39m=\u001b[39m \u001b[39minput\u001b[39m()\n",
      "\n",
      "\u001b[1;31mModuleNotFoundError\u001b[0m: No module named 'PyDictionary'"
     ]
    }
   ],
   "source": [
    "from PyDictionary import PyDictionary\n",
    "\n",
    "\n",
    "print(\"Which word do I need to explain the meaning of? Sir!\")\n",
    "word = input()\n",
    "pos = input()\n",
    "meaning = PyDictionary(\"hello\").meaning()\n",
    "print(\"The meaning of the provided word\" + meaning[pos.capitalize()])"
   ]
  },
  {
   "cell_type": "code",
   "execution_count": null,
   "metadata": {},
   "outputs": [
    {
     "ename": "ModuleNotFoundError",
     "evalue": "No module named 'PyDictionary'",
     "output_type": "error",
     "traceback": [
      "\u001b[1;31m---------------------------------------------------------------------------\u001b[0m\n",
      "\u001b[1;31mModuleNotFoundError\u001b[0m                       Traceback (most recent call last)\n",
      "Cell \u001b[1;32mIn[4], line 1\u001b[0m\n",
      "\u001b[1;32m----> 1\u001b[0m \u001b[39mfrom\u001b[39;00m \u001b[39mPyDictionary\u001b[39;00m \u001b[39mimport\u001b[39;00m PyDictionary\n",
      "\u001b[0;32m      4\u001b[0m \u001b[39mprint\u001b[39m(\u001b[39m\"\u001b[39m\u001b[39mWhich word do I need to explain the meaning of? Sir!\u001b[39m\u001b[39m\"\u001b[39m)\n",
      "\u001b[0;32m      5\u001b[0m word \u001b[39m=\u001b[39m \u001b[39minput\u001b[39m()\n",
      "\n",
      "\u001b[1;31mModuleNotFoundError\u001b[0m: No module named 'PyDictionary'"
     ]
    }
   ],
   "source": [
    "from PyDictionary import PyDictionary\n",
    "\n",
    "\n",
    "print(\"Which word do I need to explain the meaning of? Sir!\")\n",
    "word = input()\n",
    "pos = input()\n",
    "meaning = PyDictionary(\"hello\").meaning()\n",
    "print(\"The meaning of the provided word\" + meaning[pos.capitalize()])"
   ]
  },
  {
   "cell_type": "code",
   "execution_count": null,
   "metadata": {},
   "outputs": [],
   "source": []
  }
 ],
 "metadata": {
  "kernelspec": {
   "display_name": "Python 3",
   "language": "python",
   "name": "python3"
  },
  "language_info": {
   "codemirror_mode": {
    "name": "ipython",
    "version": 3
   },
   "file_extension": ".py",
   "mimetype": "text/x-python",
   "name": "python",
   "nbconvert_exporter": "python",
   "pygments_lexer": "ipython3",
   "version": "3.11.4"
  },
  "orig_nbformat": 4
 },
 "nbformat": 4,
 "nbformat_minor": 2
}
