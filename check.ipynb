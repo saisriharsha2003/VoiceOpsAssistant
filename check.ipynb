{
 "cells": [
  {
   "cell_type": "code",
   "execution_count": 1,
   "metadata": {},
   "outputs": [
    {
     "name": "stdout",
     "output_type": "stream",
     "query": [
      "8\n"
     ]
    }
   ],
   "source": [
    "def func(**kwargs):\n",
    "      print(kwargs[\"zero\"])\n",
    "\n",
    "func(a = 0, zero = 8)"
   ]
  },
  {
   "cell_type": "code",
   "execution_count": 4,
   "metadata": {},
   "outputs": [
    {
     "name": "stdout",
     "output_type": "stream",
     "query": [
      "1\n"
     ]
    }
   ],
   "source": [
    "n=int(input())\n",
    "l=[]\n",
    "c1=0\n",
    "for i in range(1,n,2):\n",
    "    c=0\n",
    "    for j in range(1,i,2):\n",
    "        if i/j==int(i/j):\n",
    "            c+=1\n",
    "    if c==2:\n",
    "        c1+=1\n",
    "            \n",
    "print(c1)"
   ]
  },
  {
   "cell_type": "code",
   "execution_count": null,
   "metadata": {},
   "outputs": [],
   "source": [
    "from selenium import webdriver\n",
    "import AppOpener\n",
    "from selenium.webdriver.common.by import By\n",
    "from selenium.webdriver.common.keys import Keys\n",
    "AppOpener.open(\"whatsapp\")\n",
    "driver=webdriver.Chrome()\n",
    "driver.get(\"https://web.whatsapp.com\")\n",
    "driver.implicitly_wait(15)\n",
    "s1=driver.find_element(By.XPATH,\"/html/body/div[1]/div/div/div[3]/div/div[1]/div/div/div[2]/div/div[1]/p\")\n",
    "s1.send_keys(\"arjun\")\n",
    "s1.send_keys(Keys.ENTER)\n",
    "driver.implicitly_wait(5)\n",
    "s2=driver.find_element(By.XPATH,\"/html/body/div[1]/div/div/div[4]/div/footer/div[1]/div/span[2]/div/div[2]/div[1]/div/div[1]/p\")\n",
    "s2.send_keys(\"hello arjun\")\n",
    "s2.send_keys(Keys.ENTER)"
   ]
  },
  {
   "cell_type": "code",
   "execution_count": 29,
   "metadata": {},
   "outputs": [
    {
     "name": "stdout",
     "output_type": "stream",
     "query": [
      "+919989604385\n"
     ]
    }
   ],
   "source": [
    "import vobject\n",
    "with open('all contacts .vcf') as f:\n",
    "    vcards = vobject.readComponents(f.read())\n",
    "l=[]\n",
    "name_to_find=\"daddy\"\n",
    "for vcard in vcards:\n",
    "    if hasattr(vcard, 'fn') and vcard.fn.value.lower() == name_to_find.lower():\n",
    "        if hasattr(vcard, 'tel') and vcard.tel:\n",
    "            for phone_number in vcard.contents['tel']:\n",
    "                ph_no = str(phone_number.value)\n",
    "                l.append(ph_no)\n",
    "p_no=l[0]\n",
    "if len(p_no)<13:\n",
    "    p_no=\"+91\"+p_no\n",
    "print(p_no)\n"
   ]
  },
  {
   "cell_type": "code",
   "execution_count": 1,
   "metadata": {},
   "outputs": [],
   "source": [
    "import pywhatkit\n"
   ]
  },
  {
   "cell_type": "code",
   "execution_count": null,
   "metadata": {},
   "outputs": [],
   "source": [
    "import pywhatkit\n",
    "pywhatkit.sendwhatmsg_instantly(\"+919391185845\",\"hello\")"
   ]
  },
  {
   "cell_type": "code",
   "execution_count": 1,
   "metadata": {},
   "outputs": [
    {
     "name": "stdout",
     "output_type": "stream",
     "query": [
      "Email Sent Successfully!\n"
     ]
    }
   ],
   "source": [
    "import pywhatkit\n",
    "pywhatkit.send_mail(\"rankelassh@gmail.com\",\"nwpmbjhunqhtjgdb\",\"Testing\",\"hello busi joseph\",\"busijoseph123@gmail.com\")"
   ]
  },
  {
   "cell_type": "code",
   "execution_count": 9,
   "metadata": {},
   "outputs": [
    {
     "name": "stdout",
     "output_type": "stream",
     "query": [
      "you are not logged in!\n"
     ]
    }
   ],
   "source": [
    "from linkedin_scraper import Person, actions\n",
    "from selenium import webdriver\n",
    "driver = webdriver.Chrome()\n",
    "\n",
    "email = \"saisriharsha.r@gmail.com\"\n",
    "password = \"Harsha@05\"\n",
    "actions.login(driver, email, password) # if email and password isnt given, it'll prompt in terminal\n",
    "person = Person(\"https://www.linkedin.com/in/saisriharsh005\", driver=driver)"
   ]
  },
  {
   "cell_type": "code",
   "execution_count": 3,
   "metadata": {},
   "outputs": [
    {
     "ename": "NoRegionError",
     "evalue": "You must specify a region.",
     "output_type": "error",
     "traceback": [
      "\u001b[1;31m---------------------------------------------------------------------------\u001b[0m",
      "\u001b[1;31mNoRegionError\u001b[0m                             Traceback (most recent call last)",
      "Cell \u001b[1;32mIn[3], line 3\u001b[0m\n\u001b[0;32m      1\u001b[0m \u001b[39mimport\u001b[39;00m \u001b[39mboto3\u001b[39;00m\n\u001b[1;32m----> 3\u001b[0m polly \u001b[39m=\u001b[39m boto3\u001b[39m.\u001b[39;49mclient(\u001b[39m'\u001b[39;49m\u001b[39mpolly\u001b[39;49m\u001b[39m'\u001b[39;49m)\n\u001b[0;32m      5\u001b[0m response \u001b[39m=\u001b[39m polly\u001b[39m.\u001b[39msynthesize_speech(\n\u001b[0;32m      6\u001b[0m     query\u001b[39m=\u001b[39m\u001b[39m'\u001b[39m\u001b[39mHello, how can I assist you?\u001b[39m\u001b[39m'\u001b[39m,\n\u001b[0;32m      7\u001b[0m     VoiceId\u001b[39m=\u001b[39m\u001b[39m'\u001b[39m\u001b[39mJoanna\u001b[39m\u001b[39m'\u001b[39m,\n\u001b[0;32m      8\u001b[0m     OutputFormat\u001b[39m=\u001b[39m\u001b[39m'\u001b[39m\u001b[39mmp3\u001b[39m\u001b[39m'\u001b[39m\n\u001b[0;32m      9\u001b[0m )\n\u001b[0;32m     11\u001b[0m audio \u001b[39m=\u001b[39m response[\u001b[39m'\u001b[39m\u001b[39mAudioStream\u001b[39m\u001b[39m'\u001b[39m]\u001b[39m.\u001b[39mread()\n",
      "File \u001b[1;32mc:\\Users\\ranke\\AppData\\Roaming\\python\\Lib\\site-packages\\boto3\\__init__.py:92\u001b[0m, in \u001b[0;36mclient\u001b[1;34m(*args, **kwargs)\u001b[0m\n\u001b[0;32m     86\u001b[0m \u001b[39mdef\u001b[39;00m \u001b[39mclient\u001b[39m(\u001b[39m*\u001b[39margs, \u001b[39m*\u001b[39m\u001b[39m*\u001b[39mkwargs):\n\u001b[0;32m     87\u001b[0m \u001b[39m    \u001b[39m\u001b[39m\"\"\"\u001b[39;00m\n\u001b[0;32m     88\u001b[0m \u001b[39m    Create a low-level service client by name using the default session.\u001b[39;00m\n\u001b[0;32m     89\u001b[0m \n\u001b[0;32m     90\u001b[0m \u001b[39m    See :py:meth:`boto3.session.Session.client`.\u001b[39;00m\n\u001b[0;32m     91\u001b[0m \u001b[39m    \"\"\"\u001b[39;00m\n\u001b[1;32m---> 92\u001b[0m     \u001b[39mreturn\u001b[39;00m _get_default_session()\u001b[39m.\u001b[39;49mclient(\u001b[39m*\u001b[39;49margs, \u001b[39m*\u001b[39;49m\u001b[39m*\u001b[39;49mkwargs)\n",
      "File \u001b[1;32mc:\\Users\\ranke\\AppData\\Roaming\\python\\Lib\\site-packages\\boto3\\session.py:299\u001b[0m, in \u001b[0;36mSession.client\u001b[1;34m(self, service_name, region_name, api_version, use_ssl, verify, endpoint_url, aws_access_key_id, aws_secret_access_key, aws_session_token, config)\u001b[0m\n\u001b[0;32m    217\u001b[0m \u001b[39mdef\u001b[39;00m \u001b[39mclient\u001b[39m(\n\u001b[0;32m    218\u001b[0m     \u001b[39mself\u001b[39m,\n\u001b[0;32m    219\u001b[0m     service_name,\n\u001b[1;32m   (...)\u001b[0m\n\u001b[0;32m    228\u001b[0m     config\u001b[39m=\u001b[39m\u001b[39mNone\u001b[39;00m,\n\u001b[0;32m    229\u001b[0m ):\n\u001b[0;32m    230\u001b[0m \u001b[39m    \u001b[39m\u001b[39m\"\"\"\u001b[39;00m\n\u001b[0;32m    231\u001b[0m \u001b[39m    Create a low-level service client by name.\u001b[39;00m\n\u001b[0;32m    232\u001b[0m \n\u001b[1;32m   (...)\u001b[0m\n\u001b[0;32m    297\u001b[0m \n\u001b[0;32m    298\u001b[0m \u001b[39m    \"\"\"\u001b[39;00m\n\u001b[1;32m--> 299\u001b[0m     \u001b[39mreturn\u001b[39;00m \u001b[39mself\u001b[39;49m\u001b[39m.\u001b[39;49m_session\u001b[39m.\u001b[39;49mcreate_client(\n\u001b[0;32m    300\u001b[0m         service_name,\n\u001b[0;32m    301\u001b[0m         region_name\u001b[39m=\u001b[39;49mregion_name,\n\u001b[0;32m    302\u001b[0m         api_version\u001b[39m=\u001b[39;49mapi_version,\n\u001b[0;32m    303\u001b[0m         use_ssl\u001b[39m=\u001b[39;49muse_ssl,\n\u001b[0;32m    304\u001b[0m         verify\u001b[39m=\u001b[39;49mverify,\n\u001b[0;32m    305\u001b[0m         endpoint_url\u001b[39m=\u001b[39;49mendpoint_url,\n\u001b[0;32m    306\u001b[0m         aws_access_key_id\u001b[39m=\u001b[39;49maws_access_key_id,\n\u001b[0;32m    307\u001b[0m         aws_secret_access_key\u001b[39m=\u001b[39;49maws_secret_access_key,\n\u001b[0;32m    308\u001b[0m         aws_session_token\u001b[39m=\u001b[39;49maws_session_token,\n\u001b[0;32m    309\u001b[0m         config\u001b[39m=\u001b[39;49mconfig,\n\u001b[0;32m    310\u001b[0m     )\n",
      "File \u001b[1;32mc:\\Users\\ranke\\AppData\\Roaming\\python\\Lib\\site-packages\\botocore\\session.py:976\u001b[0m, in \u001b[0;36mSession.create_client\u001b[1;34m(self, service_name, region_name, api_version, use_ssl, verify, endpoint_url, aws_access_key_id, aws_secret_access_key, aws_session_token, config)\u001b[0m\n\u001b[0;32m    962\u001b[0m     smart_defaults_factory\u001b[39m.\u001b[39mmerge_smart_defaults(\n\u001b[0;32m    963\u001b[0m         config_store, defaults_mode, region_name\n\u001b[0;32m    964\u001b[0m     )\n\u001b[0;32m    965\u001b[0m client_creator \u001b[39m=\u001b[39m botocore\u001b[39m.\u001b[39mclient\u001b[39m.\u001b[39mClientCreator(\n\u001b[0;32m    966\u001b[0m     loader,\n\u001b[0;32m    967\u001b[0m     endpoint_resolver,\n\u001b[1;32m   (...)\u001b[0m\n\u001b[0;32m    974\u001b[0m     config_store,\n\u001b[0;32m    975\u001b[0m )\n\u001b[1;32m--> 976\u001b[0m client \u001b[39m=\u001b[39m client_creator\u001b[39m.\u001b[39;49mcreate_client(\n\u001b[0;32m    977\u001b[0m     service_name\u001b[39m=\u001b[39;49mservice_name,\n\u001b[0;32m    978\u001b[0m     region_name\u001b[39m=\u001b[39;49mregion_name,\n\u001b[0;32m    979\u001b[0m     is_secure\u001b[39m=\u001b[39;49muse_ssl,\n\u001b[0;32m    980\u001b[0m     endpoint_url\u001b[39m=\u001b[39;49mendpoint_url,\n\u001b[0;32m    981\u001b[0m     verify\u001b[39m=\u001b[39;49mverify,\n\u001b[0;32m    982\u001b[0m     credentials\u001b[39m=\u001b[39;49mcredentials,\n\u001b[0;32m    983\u001b[0m     scoped_config\u001b[39m=\u001b[39;49m\u001b[39mself\u001b[39;49m\u001b[39m.\u001b[39;49mget_scoped_config(),\n\u001b[0;32m    984\u001b[0m     client_config\u001b[39m=\u001b[39;49mconfig,\n\u001b[0;32m    985\u001b[0m     api_version\u001b[39m=\u001b[39;49mapi_version,\n\u001b[0;32m    986\u001b[0m     auth_token\u001b[39m=\u001b[39;49mauth_token,\n\u001b[0;32m    987\u001b[0m )\n\u001b[0;32m    988\u001b[0m monitor \u001b[39m=\u001b[39m \u001b[39mself\u001b[39m\u001b[39m.\u001b[39m_get_internal_component(\u001b[39m'\u001b[39m\u001b[39mmonitor\u001b[39m\u001b[39m'\u001b[39m)\n\u001b[0;32m    989\u001b[0m \u001b[39mif\u001b[39;00m monitor \u001b[39mis\u001b[39;00m \u001b[39mnot\u001b[39;00m \u001b[39mNone\u001b[39;00m:\n",
      "File \u001b[1;32mc:\\Users\\ranke\\AppData\\Roaming\\python\\Lib\\site-packages\\botocore\\client.py:155\u001b[0m, in \u001b[0;36mClientCreator.create_client\u001b[1;34m(self, service_name, region_name, is_secure, endpoint_url, verify, credentials, scoped_config, api_version, client_config, auth_token)\u001b[0m\n\u001b[0;32m    142\u001b[0m region_name, client_config \u001b[39m=\u001b[39m \u001b[39mself\u001b[39m\u001b[39m.\u001b[39m_normalize_fips_region(\n\u001b[0;32m    143\u001b[0m     region_name, client_config\n\u001b[0;32m    144\u001b[0m )\n\u001b[0;32m    145\u001b[0m endpoint_bridge \u001b[39m=\u001b[39m ClientEndpointBridge(\n\u001b[0;32m    146\u001b[0m     \u001b[39mself\u001b[39m\u001b[39m.\u001b[39m_endpoint_resolver,\n\u001b[0;32m    147\u001b[0m     scoped_config,\n\u001b[1;32m   (...)\u001b[0m\n\u001b[0;32m    153\u001b[0m     ),\n\u001b[0;32m    154\u001b[0m )\n\u001b[1;32m--> 155\u001b[0m client_args \u001b[39m=\u001b[39m \u001b[39mself\u001b[39;49m\u001b[39m.\u001b[39;49m_get_client_args(\n\u001b[0;32m    156\u001b[0m     service_model,\n\u001b[0;32m    157\u001b[0m     region_name,\n\u001b[0;32m    158\u001b[0m     is_secure,\n\u001b[0;32m    159\u001b[0m     endpoint_url,\n\u001b[0;32m    160\u001b[0m     verify,\n\u001b[0;32m    161\u001b[0m     credentials,\n\u001b[0;32m    162\u001b[0m     scoped_config,\n\u001b[0;32m    163\u001b[0m     client_config,\n\u001b[0;32m    164\u001b[0m     endpoint_bridge,\n\u001b[0;32m    165\u001b[0m     auth_token,\n\u001b[0;32m    166\u001b[0m     endpoints_ruleset_data,\n\u001b[0;32m    167\u001b[0m     partition_data,\n\u001b[0;32m    168\u001b[0m )\n\u001b[0;32m    169\u001b[0m service_client \u001b[39m=\u001b[39m \u001b[39mcls\u001b[39m(\u001b[39m*\u001b[39m\u001b[39m*\u001b[39mclient_args)\n\u001b[0;32m    170\u001b[0m \u001b[39mself\u001b[39m\u001b[39m.\u001b[39m_register_retries(service_client)\n",
      "File \u001b[1;32mc:\\Users\\ranke\\AppData\\Roaming\\python\\Lib\\site-packages\\botocore\\client.py:485\u001b[0m, in \u001b[0;36mClientCreator._get_client_args\u001b[1;34m(self, service_model, region_name, is_secure, endpoint_url, verify, credentials, scoped_config, client_config, endpoint_bridge, auth_token, endpoints_ruleset_data, partition_data)\u001b[0m\n\u001b[0;32m    462\u001b[0m \u001b[39mdef\u001b[39;00m \u001b[39m_get_client_args\u001b[39m(\n\u001b[0;32m    463\u001b[0m     \u001b[39mself\u001b[39m,\n\u001b[0;32m    464\u001b[0m     service_model,\n\u001b[1;32m   (...)\u001b[0m\n\u001b[0;32m    475\u001b[0m     partition_data,\n\u001b[0;32m    476\u001b[0m ):\n\u001b[0;32m    477\u001b[0m     args_creator \u001b[39m=\u001b[39m ClientArgsCreator(\n\u001b[0;32m    478\u001b[0m         \u001b[39mself\u001b[39m\u001b[39m.\u001b[39m_event_emitter,\n\u001b[0;32m    479\u001b[0m         \u001b[39mself\u001b[39m\u001b[39m.\u001b[39m_user_agent,\n\u001b[1;32m   (...)\u001b[0m\n\u001b[0;32m    483\u001b[0m         config_store\u001b[39m=\u001b[39m\u001b[39mself\u001b[39m\u001b[39m.\u001b[39m_config_store,\n\u001b[0;32m    484\u001b[0m     )\n\u001b[1;32m--> 485\u001b[0m     \u001b[39mreturn\u001b[39;00m args_creator\u001b[39m.\u001b[39;49mget_client_args(\n\u001b[0;32m    486\u001b[0m         service_model,\n\u001b[0;32m    487\u001b[0m         region_name,\n\u001b[0;32m    488\u001b[0m         is_secure,\n\u001b[0;32m    489\u001b[0m         endpoint_url,\n\u001b[0;32m    490\u001b[0m         verify,\n\u001b[0;32m    491\u001b[0m         credentials,\n\u001b[0;32m    492\u001b[0m         scoped_config,\n\u001b[0;32m    493\u001b[0m         client_config,\n\u001b[0;32m    494\u001b[0m         endpoint_bridge,\n\u001b[0;32m    495\u001b[0m         auth_token,\n\u001b[0;32m    496\u001b[0m         endpoints_ruleset_data,\n\u001b[0;32m    497\u001b[0m         partition_data,\n\u001b[0;32m    498\u001b[0m     )\n",
      "File \u001b[1;32mc:\\Users\\ranke\\AppData\\Roaming\\python\\Lib\\site-packages\\botocore\\args.py:92\u001b[0m, in \u001b[0;36mClientArgsCreator.get_client_args\u001b[1;34m(self, service_model, region_name, is_secure, endpoint_url, verify, credentials, scoped_config, client_config, endpoint_bridge, auth_token, endpoints_ruleset_data, partition_data)\u001b[0m\n\u001b[0;32m     77\u001b[0m \u001b[39mdef\u001b[39;00m \u001b[39mget_client_args\u001b[39m(\n\u001b[0;32m     78\u001b[0m     \u001b[39mself\u001b[39m,\n\u001b[0;32m     79\u001b[0m     service_model,\n\u001b[1;32m   (...)\u001b[0m\n\u001b[0;32m     90\u001b[0m     partition_data\u001b[39m=\u001b[39m\u001b[39mNone\u001b[39;00m,\n\u001b[0;32m     91\u001b[0m ):\n\u001b[1;32m---> 92\u001b[0m     final_args \u001b[39m=\u001b[39m \u001b[39mself\u001b[39;49m\u001b[39m.\u001b[39;49mcompute_client_args(\n\u001b[0;32m     93\u001b[0m         service_model,\n\u001b[0;32m     94\u001b[0m         client_config,\n\u001b[0;32m     95\u001b[0m         endpoint_bridge,\n\u001b[0;32m     96\u001b[0m         region_name,\n\u001b[0;32m     97\u001b[0m         endpoint_url,\n\u001b[0;32m     98\u001b[0m         is_secure,\n\u001b[0;32m     99\u001b[0m         scoped_config,\n\u001b[0;32m    100\u001b[0m     )\n\u001b[0;32m    102\u001b[0m     service_name \u001b[39m=\u001b[39m final_args[\u001b[39m'\u001b[39m\u001b[39mservice_name\u001b[39m\u001b[39m'\u001b[39m]  \u001b[39m# noqa\u001b[39;00m\n\u001b[0;32m    103\u001b[0m     parameter_validation \u001b[39m=\u001b[39m final_args[\u001b[39m'\u001b[39m\u001b[39mparameter_validation\u001b[39m\u001b[39m'\u001b[39m]\n",
      "File \u001b[1;32mc:\\Users\\ranke\\AppData\\Roaming\\python\\Lib\\site-packages\\botocore\\args.py:205\u001b[0m, in \u001b[0;36mClientArgsCreator.compute_client_args\u001b[1;34m(self, service_model, client_config, endpoint_bridge, region_name, endpoint_url, is_secure, scoped_config)\u001b[0m\n\u001b[0;32m    202\u001b[0m         user_agent \u001b[39m+\u001b[39m\u001b[39m=\u001b[39m \u001b[39m'\u001b[39m\u001b[39m \u001b[39m\u001b[39m%s\u001b[39;00m\u001b[39m'\u001b[39m \u001b[39m%\u001b[39m client_config\u001b[39m.\u001b[39muser_agent_extra\n\u001b[0;32m    204\u001b[0m s3_config \u001b[39m=\u001b[39m \u001b[39mself\u001b[39m\u001b[39m.\u001b[39mcompute_s3_config(client_config)\n\u001b[1;32m--> 205\u001b[0m endpoint_config \u001b[39m=\u001b[39m \u001b[39mself\u001b[39;49m\u001b[39m.\u001b[39;49m_compute_endpoint_config(\n\u001b[0;32m    206\u001b[0m     service_name\u001b[39m=\u001b[39;49mservice_name,\n\u001b[0;32m    207\u001b[0m     region_name\u001b[39m=\u001b[39;49mregion_name,\n\u001b[0;32m    208\u001b[0m     endpoint_url\u001b[39m=\u001b[39;49mendpoint_url,\n\u001b[0;32m    209\u001b[0m     is_secure\u001b[39m=\u001b[39;49mis_secure,\n\u001b[0;32m    210\u001b[0m     endpoint_bridge\u001b[39m=\u001b[39;49mendpoint_bridge,\n\u001b[0;32m    211\u001b[0m     s3_config\u001b[39m=\u001b[39;49ms3_config,\n\u001b[0;32m    212\u001b[0m )\n\u001b[0;32m    213\u001b[0m endpoint_variant_tags \u001b[39m=\u001b[39m endpoint_config[\u001b[39m'\u001b[39m\u001b[39mmetadata\u001b[39m\u001b[39m'\u001b[39m]\u001b[39m.\u001b[39mget(\u001b[39m'\u001b[39m\u001b[39mtags\u001b[39m\u001b[39m'\u001b[39m, [])\n\u001b[0;32m    214\u001b[0m \u001b[39m# Create a new client config to be passed to the client based\u001b[39;00m\n\u001b[0;32m    215\u001b[0m \u001b[39m# on the final values. We do not want the user to be able\u001b[39;00m\n\u001b[0;32m    216\u001b[0m \u001b[39m# to try to modify an existing client with a client config.\u001b[39;00m\n",
      "File \u001b[1;32mc:\\Users\\ranke\\AppData\\Roaming\\python\\Lib\\site-packages\\botocore\\args.py:313\u001b[0m, in \u001b[0;36mClientArgsCreator._compute_endpoint_config\u001b[1;34m(self, service_name, region_name, endpoint_url, is_secure, endpoint_bridge, s3_config)\u001b[0m\n\u001b[0;32m    311\u001b[0m \u001b[39mif\u001b[39;00m service_name \u001b[39m==\u001b[39m \u001b[39m'\u001b[39m\u001b[39msts\u001b[39m\u001b[39m'\u001b[39m:\n\u001b[0;32m    312\u001b[0m     \u001b[39mreturn\u001b[39;00m \u001b[39mself\u001b[39m\u001b[39m.\u001b[39m_compute_sts_endpoint_config(\u001b[39m*\u001b[39m\u001b[39m*\u001b[39mresolve_endpoint_kwargs)\n\u001b[1;32m--> 313\u001b[0m \u001b[39mreturn\u001b[39;00m \u001b[39mself\u001b[39;49m\u001b[39m.\u001b[39;49m_resolve_endpoint(\u001b[39m*\u001b[39;49m\u001b[39m*\u001b[39;49mresolve_endpoint_kwargs)\n",
      "File \u001b[1;32mc:\\Users\\ranke\\AppData\\Roaming\\python\\Lib\\site-packages\\botocore\\args.py:418\u001b[0m, in \u001b[0;36mClientArgsCreator._resolve_endpoint\u001b[1;34m(self, service_name, region_name, endpoint_url, is_secure, endpoint_bridge)\u001b[0m\n\u001b[0;32m    410\u001b[0m \u001b[39mdef\u001b[39;00m \u001b[39m_resolve_endpoint\u001b[39m(\n\u001b[0;32m    411\u001b[0m     \u001b[39mself\u001b[39m,\n\u001b[0;32m    412\u001b[0m     service_name,\n\u001b[1;32m   (...)\u001b[0m\n\u001b[0;32m    416\u001b[0m     endpoint_bridge,\n\u001b[0;32m    417\u001b[0m ):\n\u001b[1;32m--> 418\u001b[0m     \u001b[39mreturn\u001b[39;00m endpoint_bridge\u001b[39m.\u001b[39;49mresolve(\n\u001b[0;32m    419\u001b[0m         service_name, region_name, endpoint_url, is_secure\n\u001b[0;32m    420\u001b[0m     )\n",
      "File \u001b[1;32mc:\\Users\\ranke\\AppData\\Roaming\\python\\Lib\\site-packages\\botocore\\client.py:590\u001b[0m, in \u001b[0;36mClientEndpointBridge.resolve\u001b[1;34m(self, service_name, region_name, endpoint_url, is_secure)\u001b[0m\n\u001b[0;32m    584\u001b[0m use_dualstack_endpoint \u001b[39m=\u001b[39m \u001b[39mself\u001b[39m\u001b[39m.\u001b[39m_resolve_use_dualstack_endpoint(\n\u001b[0;32m    585\u001b[0m     service_name\n\u001b[0;32m    586\u001b[0m )\n\u001b[0;32m    587\u001b[0m use_fips_endpoint \u001b[39m=\u001b[39m \u001b[39mself\u001b[39m\u001b[39m.\u001b[39m_resolve_endpoint_variant_config_var(\n\u001b[0;32m    588\u001b[0m     \u001b[39m'\u001b[39m\u001b[39muse_fips_endpoint\u001b[39m\u001b[39m'\u001b[39m\n\u001b[0;32m    589\u001b[0m )\n\u001b[1;32m--> 590\u001b[0m resolved \u001b[39m=\u001b[39m \u001b[39mself\u001b[39;49m\u001b[39m.\u001b[39;49mendpoint_resolver\u001b[39m.\u001b[39;49mconstruct_endpoint(\n\u001b[0;32m    591\u001b[0m     service_name,\n\u001b[0;32m    592\u001b[0m     region_name,\n\u001b[0;32m    593\u001b[0m     use_dualstack_endpoint\u001b[39m=\u001b[39;49muse_dualstack_endpoint,\n\u001b[0;32m    594\u001b[0m     use_fips_endpoint\u001b[39m=\u001b[39;49muse_fips_endpoint,\n\u001b[0;32m    595\u001b[0m )\n\u001b[0;32m    597\u001b[0m \u001b[39m# If we can't resolve the region, we'll attempt to get a global\u001b[39;00m\n\u001b[0;32m    598\u001b[0m \u001b[39m# endpoint for non-regionalized services (iam, route53, etc)\u001b[39;00m\n\u001b[0;32m    599\u001b[0m \u001b[39mif\u001b[39;00m \u001b[39mnot\u001b[39;00m resolved:\n\u001b[0;32m    600\u001b[0m     \u001b[39m# TODO: fallback partition_name should be configurable in the\u001b[39;00m\n\u001b[0;32m    601\u001b[0m     \u001b[39m# future for users to define as needed.\u001b[39;00m\n",
      "File \u001b[1;32mc:\\Users\\ranke\\AppData\\Roaming\\python\\Lib\\site-packages\\botocore\\regions.py:229\u001b[0m, in \u001b[0;36mEndpointResolver.construct_endpoint\u001b[1;34m(self, service_name, region_name, partition_name, use_dualstack_endpoint, use_fips_endpoint)\u001b[0m\n\u001b[0;32m    224\u001b[0m \u001b[39mif\u001b[39;00m use_dualstack_endpoint \u001b[39mand\u001b[39;00m (\n\u001b[0;32m    225\u001b[0m     partition[\u001b[39m'\u001b[39m\u001b[39mpartition\u001b[39m\u001b[39m'\u001b[39m]\n\u001b[0;32m    226\u001b[0m     \u001b[39min\u001b[39;00m \u001b[39mself\u001b[39m\u001b[39m.\u001b[39m_UNSUPPORTED_DUALSTACK_PARTITIONS\n\u001b[0;32m    227\u001b[0m ):\n\u001b[0;32m    228\u001b[0m     \u001b[39mcontinue\u001b[39;00m\n\u001b[1;32m--> 229\u001b[0m result \u001b[39m=\u001b[39m \u001b[39mself\u001b[39;49m\u001b[39m.\u001b[39;49m_endpoint_for_partition(\n\u001b[0;32m    230\u001b[0m     partition,\n\u001b[0;32m    231\u001b[0m     service_name,\n\u001b[0;32m    232\u001b[0m     region_name,\n\u001b[0;32m    233\u001b[0m     use_dualstack_endpoint,\n\u001b[0;32m    234\u001b[0m     use_fips_endpoint,\n\u001b[0;32m    235\u001b[0m )\n\u001b[0;32m    236\u001b[0m \u001b[39mif\u001b[39;00m result:\n\u001b[0;32m    237\u001b[0m     \u001b[39mreturn\u001b[39;00m result\n",
      "File \u001b[1;32mc:\\Users\\ranke\\AppData\\Roaming\\python\\Lib\\site-packages\\botocore\\regions.py:277\u001b[0m, in \u001b[0;36mEndpointResolver._endpoint_for_partition\u001b[1;34m(self, partition, service_name, region_name, use_dualstack_endpoint, use_fips_endpoint, force_partition)\u001b[0m\n\u001b[0;32m    275\u001b[0m         region_name \u001b[39m=\u001b[39m service_data[\u001b[39m'\u001b[39m\u001b[39mpartitionEndpoint\u001b[39m\u001b[39m'\u001b[39m]\n\u001b[0;32m    276\u001b[0m     \u001b[39melse\u001b[39;00m:\n\u001b[1;32m--> 277\u001b[0m         \u001b[39mraise\u001b[39;00m NoRegionError()\n\u001b[0;32m    279\u001b[0m resolve_kwargs \u001b[39m=\u001b[39m {\n\u001b[0;32m    280\u001b[0m     \u001b[39m'\u001b[39m\u001b[39mpartition\u001b[39m\u001b[39m'\u001b[39m: partition,\n\u001b[0;32m    281\u001b[0m     \u001b[39m'\u001b[39m\u001b[39mservice_name\u001b[39m\u001b[39m'\u001b[39m: service_name,\n\u001b[1;32m   (...)\u001b[0m\n\u001b[0;32m    285\u001b[0m     \u001b[39m'\u001b[39m\u001b[39muse_fips_endpoint\u001b[39m\u001b[39m'\u001b[39m: use_fips_endpoint,\n\u001b[0;32m    286\u001b[0m }\n\u001b[0;32m    288\u001b[0m \u001b[39m# Attempt to resolve the exact region for this partition.\u001b[39;00m\n",
      "\u001b[1;31mNoRegionError\u001b[0m: You must specify a region."
     ]
    }
   ],
   "source": [
    "import boto3\n",
    "\n",
    "polly = boto3.client('polly')\n",
    "\n",
    "response = polly.synthesize_speech(\n",
    "    query='Hello, how can I assist you?',\n",
    "    VoiceId='Joanna',\n",
    "    OutputFormat='mp3'\n",
    ")\n",
    "\n",
    "audio = response['AudioStream'].read()\n",
    "\n",
    "# save the audio to a file\n",
    "with open('output.mp3', 'wb') as file:\n",
    "    file.write(audio)\n"
   ]
  },
  {
   "cell_type": "code",
   "execution_count": null,
   "metadata": {},
   "outputs": [],
   "source": []
  },
  {
   "cell_type": "code",
   "execution_count": null,
   "metadata": {},
   "outputs": [],
   "source": []
  },
  {
   "cell_type": "code",
   "execution_count": null,
   "metadata": {},
   "outputs": [],
   "source": []
  },
  {
   "cell_type": "code",
   "execution_count": null,
   "metadata": {},
   "outputs": [],
   "source": []
  }
 ],
 "metadata": {
  "kernelspec": {
   "display_name": "Python 3",
   "language": "python",
   "name": "python3"
  },
  "language_info": {
   "codemirror_mode": {
    "name": "ipython",
    "version": 3
   },
   "file_extension": ".py",
   "mimetype": "text/x-python",
   "name": "python",
   "nbconvert_exporter": "python",
   "pygments_lexer": "ipython3",
   "version": "3.11.2"
  },
  "orig_nbformat": 4
 },
 "nbformat": 4,
 "nbformat_minor": 2
}
